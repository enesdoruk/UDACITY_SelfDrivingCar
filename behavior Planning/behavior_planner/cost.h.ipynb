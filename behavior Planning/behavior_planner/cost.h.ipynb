{
 "cells": [
  {
   "cell_type": "code",
   "execution_count": null,
   "metadata": {},
   "outputs": [],
   "source": [
    "#ifndef COST_H\n",
    "#define COST_H\n",
    "\n",
    "#include \"vehicle.h\"\n",
    "\n",
    "using std::map;\n",
    "using std::string;\n",
    "using std::vector;\n",
    "\n",
    "float calculate_cost(const Vehicle &vehicle, \n",
    "                     const map<int, vector<Vehicle>> &predictions, \n",
    "                     const vector<Vehicle> &trajectory);\n",
    "\n",
    "float goal_distance_cost(const Vehicle &vehicle,  \n",
    "                         const vector<Vehicle> &trajectory,  \n",
    "                         const map<int, vector<Vehicle>> &predictions, \n",
    "                         map<string, float> &data);\n",
    "\n",
    "float inefficiency_cost(const Vehicle &vehicle, \n",
    "                        const vector<Vehicle> &trajectory, \n",
    "                        const map<int, vector<Vehicle>> &predictions, \n",
    "                        map<string, float> &data);\n",
    "\n",
    "float lane_speed(const map<int, vector<Vehicle>> &predictions, int lane);\n",
    "\n",
    "map<string, float> get_helper_data(const Vehicle &vehicle, \n",
    "                                   const vector<Vehicle> &trajectory, \n",
    "                                   const map<int, vector<Vehicle>> &predictions);\n",
    "\n",
    "#endif  // COST_H"
   ]
  }
 ],
 "metadata": {
  "kernelspec": {
   "display_name": "C++14",
   "language": "C++14",
   "name": "xcpp14"
  },
  "language_info": {
   "codemirror_mode": "text/x-c++src",
   "file_extension": ".cpp",
   "mimetype": "text/x-c++src",
   "name": "c++",
   "version": "14"
  }
 },
 "nbformat": 4,
 "nbformat_minor": 4
}
