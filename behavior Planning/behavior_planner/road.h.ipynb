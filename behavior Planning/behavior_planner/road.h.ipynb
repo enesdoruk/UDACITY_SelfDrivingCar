{
 "cells": [
  {
   "cell_type": "code",
   "execution_count": null,
   "metadata": {},
   "outputs": [],
   "source": [
    "#ifndef ROAD_H\n",
    "#define ROAD_H\n",
    "\n",
    "#include <map>\n",
    "#include <string>\n",
    "#include <vector>\n",
    "#include \"vehicle.h\"\n",
    "\n",
    "class Road {\n",
    " public:\n",
    "  // Constructor\n",
    "  Road(int speed_limit, double traffic_density, std::vector<int> &lane_speeds);\n",
    "\n",
    "  // Destructor\n",
    "  virtual ~Road();\n",
    "\n",
    "  // Road functions\n",
    "  Vehicle get_ego();\n",
    "\n",
    "  void populate_traffic();\n",
    "\n",
    "  void advance();\n",
    "\n",
    "  void display(int timestep);\n",
    "\n",
    "  void add_ego(int lane_num, int s, std::vector<int> &config_data);\n",
    "\n",
    "  void cull();\n",
    "\n",
    "  // Road variables\n",
    "  int update_width = 70;\n",
    "\n",
    "  int vehicles_added = 0;\n",
    "\n",
    "  int ego_key = -1;\n",
    "\n",
    "  int num_lanes, speed_limit, camera_center;\n",
    "\n",
    "  double density; \n",
    "\n",
    "  std::map<int, Vehicle> vehicles;\n",
    "\n",
    "  std::string ego_rep = \" *** \";\n",
    "\n",
    "  std::vector<int> lane_speeds; \n",
    "};\n",
    "\n",
    "#endif  // ROAD_H"
   ]
  }
 ],
 "metadata": {
  "kernelspec": {
   "display_name": "C++14",
   "language": "C++14",
   "name": "xcpp14"
  },
  "language_info": {
   "codemirror_mode": "text/x-c++src",
   "file_extension": ".cpp",
   "mimetype": "text/x-c++src",
   "name": "c++",
   "version": "14"
  }
 },
 "nbformat": 4,
 "nbformat_minor": 4
}
