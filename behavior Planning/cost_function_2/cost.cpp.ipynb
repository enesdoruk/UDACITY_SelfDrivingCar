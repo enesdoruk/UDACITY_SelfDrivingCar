{
 "cells": [
  {
   "cell_type": "code",
   "execution_count": null,
   "metadata": {},
   "outputs": [],
   "source": [
    "#include \"cost.h\"\n",
    "\n",
    "double inefficiency_cost(int target_speed, int intended_lane, int final_lane, \n",
    "                         const std::vector<int> &lane_speeds) {\n",
    "  // Cost becomes higher for trajectories with intended lane and final lane \n",
    "  //   that have traffic slower than target_speed.\n",
    "  double speed_intended = lane_speeds[intended_lane];\n",
    "  double speed_final = lane_speeds[final_lane];\n",
    "  double cost = (2.0*target_speed - speed_intended - speed_final)/target_speed;\n",
    "\n",
    "  return cost;\n",
    "}"
   ]
  }
 ],
 "metadata": {
  "kernelspec": {
   "display_name": "C++14",
   "language": "C++14",
   "name": "xcpp14"
  },
  "language_info": {
   "codemirror_mode": "text/x-c++src",
   "file_extension": ".cpp",
   "mimetype": "text/x-c++src",
   "name": "c++",
   "version": "14"
  }
 },
 "nbformat": 4,
 "nbformat_minor": 4
}
