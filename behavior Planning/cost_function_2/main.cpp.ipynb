{
 "cells": [
  {
   "cell_type": "code",
   "execution_count": null,
   "metadata": {},
   "outputs": [],
   "source": [
    "#include <iostream>\n",
    "#include <vector>\n",
    "#include \"cost.h\"\n",
    "\n",
    "using std::cout;\n",
    "using std::endl;\n",
    "\n",
    "int main() {\n",
    "  // Target speed of our vehicle\n",
    "  int target_speed = 10;\n",
    "\n",
    "  // Lane speeds for each lane\n",
    "  std::vector<int> lane_speeds = {6, 7, 8, 9};\n",
    "    \n",
    "  // Test cases used for grading - do not change.\n",
    "  double cost;\n",
    "  cout << \"Costs for (intended_lane, final_lane):\" << endl;\n",
    "  cout << \"---------------------------------------------------------\" << endl;\n",
    "  cost = inefficiency_cost(target_speed, 3, 3, lane_speeds);\n",
    "  cout << \"The cost is \" << cost << \" for \" << \"(3, 3)\" << endl;\n",
    "  cost = inefficiency_cost(target_speed, 2, 3, lane_speeds);\n",
    "  cout << \"The cost is \" << cost << \" for \" << \"(2, 3)\" << endl;\n",
    "  cost = inefficiency_cost(target_speed, 2, 2, lane_speeds);\n",
    "  cout << \"The cost is \" << cost << \" for \" << \"(2, 2)\" << endl;\n",
    "  cost = inefficiency_cost(target_speed, 1, 2, lane_speeds);\n",
    "  cout << \"The cost is \" << cost << \" for \" << \"(1, 2)\" << endl;\n",
    "  cost = inefficiency_cost(target_speed, 1, 1, lane_speeds);\n",
    "  cout << \"The cost is \" << cost << \" for \" << \"(1, 1)\" << endl;\n",
    "  cost = inefficiency_cost(target_speed, 0, 1, lane_speeds);\n",
    "  cout << \"The cost is \" << cost << \" for \" << \"(0, 1)\" << endl;\n",
    "  cost = inefficiency_cost(target_speed, 0, 0, lane_speeds);\n",
    "  cout << \"The cost is \" << cost << \" for \" << \"(0, 0)\" << endl;\n",
    "    \n",
    "  return 0;\n",
    "}"
   ]
  }
 ],
 "metadata": {
  "kernelspec": {
   "display_name": "C++14",
   "language": "C++14",
   "name": "xcpp14"
  },
  "language_info": {
   "codemirror_mode": "text/x-c++src",
   "file_extension": ".cpp",
   "mimetype": "text/x-c++src",
   "name": "c++",
   "version": "14"
  }
 },
 "nbformat": 4,
 "nbformat_minor": 4
}
