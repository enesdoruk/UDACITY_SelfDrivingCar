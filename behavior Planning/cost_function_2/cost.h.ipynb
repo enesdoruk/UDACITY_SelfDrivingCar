{
 "cells": [
  {
   "cell_type": "code",
   "execution_count": null,
   "metadata": {},
   "outputs": [],
   "source": [
    "#ifndef COST_H\n",
    "#define COST_H\n",
    "\n",
    "#include <vector>\n",
    "\n",
    "double inefficiency_cost(int target_speed, int intended_lane, int final_lane, \n",
    "                         const std::vector<int> &lane_speeds);\n",
    "\n",
    "#endif  // COST_H"
   ]
  }
 ],
 "metadata": {
  "kernelspec": {
   "display_name": "C++14",
   "language": "C++14",
   "name": "xcpp14"
  },
  "language_info": {
   "codemirror_mode": "text/x-c++src",
   "file_extension": ".cpp",
   "mimetype": "text/x-c++src",
   "name": "c++",
   "version": "14"
  }
 },
 "nbformat": 4,
 "nbformat_minor": 4
}
