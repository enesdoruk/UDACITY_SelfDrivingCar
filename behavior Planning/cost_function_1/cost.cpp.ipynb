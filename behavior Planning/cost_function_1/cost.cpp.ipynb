{
 "cells": [
  {
   "cell_type": "code",
   "execution_count": null,
   "metadata": {},
   "outputs": [],
   "source": [
    "#include \"cost.h\"\n",
    "#include <cmath>\n",
    "\n",
    "double goal_distance_cost(int goal_lane, int intended_lane, int final_lane, \n",
    "                          double distance_to_goal) {\n",
    "  // The cost increases with both the distance of intended lane from the goal\n",
    "  //   and the distance of the final lane from the goal. The cost of being out \n",
    "  //   of the goal lane also becomes larger as the vehicle approaches the goal.\n",
    "  int delta_d = 2.0 * goal_lane - intended_lane - final_lane;\n",
    "  double cost = 1 - exp(-(std::abs(delta_d) / distance_to_goal));\n",
    "\n",
    "  return cost;\n",
    "}"
   ]
  }
 ],
 "metadata": {
  "kernelspec": {
   "display_name": "C++14",
   "language": "C++14",
   "name": "xcpp14"
  },
  "language_info": {
   "codemirror_mode": "text/x-c++src",
   "file_extension": ".cpp",
   "mimetype": "text/x-c++src",
   "name": "c++",
   "version": "14"
  }
 },
 "nbformat": 4,
 "nbformat_minor": 4
}
