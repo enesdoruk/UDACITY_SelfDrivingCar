{
 "cells": [
  {
   "cell_type": "code",
   "execution_count": null,
   "metadata": {},
   "outputs": [],
   "source": [
    "#include <iostream>\n",
    "#include \"cost.h\"\n",
    "\n",
    "using std::cout;\n",
    "using std::endl;\n",
    "\n",
    "int main() {\n",
    "  int goal_lane = 0;\n",
    "    \n",
    "  // Test cases used for grading - do not change.\n",
    "  double cost;\n",
    "  cout << \"Costs for (intended_lane, final_lane, goal_distance):\" << endl;\n",
    "  cout << \"---------------------------------------------------------\" << endl;\n",
    "  cost = goal_distance_cost(goal_lane, 2, 2, 1.0);\n",
    "  cout << \"The cost is \" << cost << \" for \" << \"(2, 2, 1.0)\" << endl;\n",
    "  cost = goal_distance_cost(goal_lane, 2, 2, 10.0);\n",
    "  cout << \"The cost is \" << cost << \" for \" << \"(2, 2, 10.0)\" << endl;\n",
    "  cost = goal_distance_cost(goal_lane, 2, 2, 100.0);\n",
    "  cout << \"The cost is \" << cost << \" for \" << \"(2, 2, 100.0)\" << endl;\n",
    "  cost = goal_distance_cost(goal_lane, 1, 2, 100.0);\n",
    "  cout << \"The cost is \" << cost << \" for \" << \"(1, 2, 100.0)\" << endl;\n",
    "  cost = goal_distance_cost(goal_lane, 1, 1, 100.0);\n",
    "  cout << \"The cost is \" << cost << \" for \" << \"(1, 1, 100.0)\" << endl;\n",
    "  cost = goal_distance_cost(goal_lane, 0, 1, 100.0);\n",
    "  cout << \"The cost is \" << cost << \" for \" << \"(0, 1, 100.0)\" << endl;\n",
    "  cost = goal_distance_cost(goal_lane, 0, 0, 100.0);\n",
    "  cout << \"The cost is \" << cost << \" for \" << \"(0, 0, 100.0)\" << endl;\n",
    "    \n",
    "  return 0;\n",
    "}"
   ]
  }
 ],
 "metadata": {
  "kernelspec": {
   "display_name": "C++14",
   "language": "C++14",
   "name": "xcpp14"
  },
  "language_info": {
   "codemirror_mode": "text/x-c++src",
   "file_extension": ".cpp",
   "mimetype": "text/x-c++src",
   "name": "c++",
   "version": "14"
  }
 },
 "nbformat": 4,
 "nbformat_minor": 4
}
