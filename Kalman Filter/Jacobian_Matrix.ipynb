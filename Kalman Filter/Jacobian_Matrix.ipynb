{
 "cells": [
  {
   "cell_type": "code",
   "execution_count": null,
   "metadata": {},
   "outputs": [],
   "source": [
    "#include <iostream>\n",
    "#include <vector>\n",
    "#include \"Dense\"\n",
    "\n",
    "using Eigen::MatrixXd;\n",
    "using Eigen::VectorXd;\n",
    "using std::cout;\n",
    "using std::endl;\n",
    "\n",
    "MatrixXd CalculateJacobian(const VectorXd& x_state);\n",
    "\n",
    "int main() {\n",
    "  /**\n",
    "   * Compute the Jacobian Matrix\n",
    "   */\n",
    "\n",
    "  // predicted state example\n",
    "  // px = 1, py = 2, vx = 0.2, vy = 0.4\n",
    "  VectorXd x_predicted(4);\n",
    "  x_predicted << 1, 2, 0.2, 0.4;\n",
    "\n",
    "  MatrixXd Hj = CalculateJacobian(x_predicted);\n",
    "\n",
    "  cout << \"Hj:\" << endl << Hj << endl;\n",
    "\n",
    "  return 0;\n",
    "}\n",
    "\n",
    "MatrixXd CalculateJacobian(const VectorXd& x_state) {\n",
    "\n",
    "  MatrixXd Hj(3,4);\n",
    "  // recover state parameters\n",
    "  float px = x_state(0);\n",
    "  float py = x_state(1);\n",
    "  float vx = x_state(2);\n",
    "  float vy = x_state(3);\n",
    "\n",
    "  // pre-compute a set of terms to avoid repeated calculation\n",
    "  float c1 = px*px+py*py;\n",
    "  float c2 = sqrt(c1);\n",
    "  float c3 = (c1*c2);\n",
    "\n",
    "  // check division by zero\n",
    "  if (fabs(c1) < 0.0001) {\n",
    "    cout << \"CalculateJacobian () - Error - Division by Zero\" << endl;\n",
    "    return Hj;\n",
    "  }\n",
    "\n",
    "  // compute the Jacobian matrix\n",
    "  Hj << (px/c2), (py/c2), 0, 0,\n",
    "      -(py/c1), (px/c1), 0, 0,\n",
    "      py*(vx*py - vy*px)/c3, px*(px*vy - py*vx)/c3, px/c2, py/c2;\n",
    "\n",
    "  return Hj;\n",
    "}"
   ]
  }
 ],
 "metadata": {
  "kernelspec": {
   "display_name": "Python 3",
   "language": "python",
   "name": "python3"
  },
  "language_info": {
   "codemirror_mode": {
    "name": "ipython",
    "version": 3
   },
   "file_extension": ".py",
   "mimetype": "text/x-python",
   "name": "python",
   "nbconvert_exporter": "python",
   "pygments_lexer": "ipython3",
   "version": "3.7.4"
  }
 },
 "nbformat": 4,
 "nbformat_minor": 4
}
