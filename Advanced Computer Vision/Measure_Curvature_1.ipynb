{
 "cells": [
  {
   "cell_type": "code",
   "execution_count": 1,
   "metadata": {},
   "outputs": [
    {
     "name": "stdout",
     "output_type": "stream",
     "text": [
      "1625.0601831657184 1976.2967307714246\n"
     ]
    }
   ],
   "source": [
    "import numpy as np\n",
    "\n",
    "def generate_data():\n",
    "   \n",
    "    np.random.seed(0)\n",
    "    ploty = np.linspace(0, 719, num=720)\n",
    "    quadratic_coeff = 3e-4 \n",
    "    leftx = np.array([200 + (y**2)*quadratic_coeff + np.random.randint(-50, high=51) \n",
    "                                    for y in ploty])\n",
    "    rightx = np.array([900 + (y**2)*quadratic_coeff + np.random.randint(-50, high=51) \n",
    "                                    for y in ploty])\n",
    "\n",
    "    leftx = leftx[::-1]  \n",
    "    rightx = rightx[::-1]  \n",
    "\n",
    "\n",
    "    left_fit = np.polyfit(ploty, leftx, 2)\n",
    "    right_fit = np.polyfit(ploty, rightx, 2)\n",
    "    \n",
    "    return ploty, left_fit, right_fit\n",
    "    \n",
    "def measure_curvature_pixels():\n",
    "   \n",
    "    ploty, left_fit, right_fit = generate_data()\n",
    "    \n",
    "    y_eval = np.max(ploty)\n",
    "    \n",
    "    left_curverad = ((1 + (2*left_fit[0]*y_eval + left_fit[1])**2)**1.5) / np.absolute(2*left_fit[0])\n",
    "    right_curverad = ((1 + (2*right_fit[0]*y_eval + right_fit[1])**2)**1.5) / np.absolute(2*right_fit[0])\n",
    "    \n",
    "    return left_curverad, right_curverad\n",
    "\n",
    "\n",
    "left_curverad, right_curverad = measure_curvature_pixels()\n",
    "\n",
    "print(left_curverad, right_curverad)\n"
   ]
  },
  {
   "cell_type": "code",
   "execution_count": null,
   "metadata": {},
   "outputs": [],
   "source": []
  }
 ],
 "metadata": {
  "kernelspec": {
   "display_name": "Python 3",
   "language": "python",
   "name": "python3"
  },
  "language_info": {
   "codemirror_mode": {
    "name": "ipython",
    "version": 3
   },
   "file_extension": ".py",
   "mimetype": "text/x-python",
   "name": "python",
   "nbconvert_exporter": "python",
   "pygments_lexer": "ipython3",
   "version": "3.7.4"
  }
 },
 "nbformat": 4,
 "nbformat_minor": 4
}
